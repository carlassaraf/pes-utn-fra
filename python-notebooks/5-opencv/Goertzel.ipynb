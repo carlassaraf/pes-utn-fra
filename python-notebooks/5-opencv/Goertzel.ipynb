{
 "cells": [
  {
   "cell_type": "code",
   "execution_count": 3,
   "id": "28f5e7fb-e429-42c0-97d3-68722a88dd73",
   "metadata": {},
   "outputs": [
    {
     "name": "stdout",
     "output_type": "stream",
     "text": [
      "Frecuencia detectada: 329.10 Hz\n",
      "La cuerda está desfasada por -0.90 Hz.\n"
     ]
    }
   ],
   "source": [
    "import numpy as np\n",
    "import wave\n",
    "from scipy.io import wavfile\n",
    "\n",
    "# Implementación de Goertzel para una frecuencia específica\n",
    "def goertzel(samples, target_freq, sample_rate):\n",
    "    N = len(samples)\n",
    "    k = int(0.5 + (N * target_freq) / sample_rate)  # Índice de la frecuencia objetivo\n",
    "    omega = (2.0 * np.pi * k) / N\n",
    "    coeff = 2.0 * np.cos(omega)\n",
    "    \n",
    "    s_prev = 0.0\n",
    "    s_prev2 = 0.0\n",
    "    \n",
    "    # Algoritmo de recurrencia de Goertzel\n",
    "    for sample in samples:\n",
    "        s = sample + coeff * s_prev - s_prev2\n",
    "        s_prev2 = s_prev\n",
    "        s_prev = s\n",
    "    \n",
    "    # Calcular magnitud de la frecuencia objetivo\n",
    "    power = s_prev2**2 + s_prev**2 - coeff * s_prev * s_prev2\n",
    "    return power\n",
    "\n",
    "# Cargar archivo de audio\n",
    "def load_wav(filename):\n",
    "    sample_rate, data = wavfile.read(filename)\n",
    "    if len(data.shape) > 1:  # Si es estéreo, convertir a mono\n",
    "        data = np.mean(data, axis=1)\n",
    "    return sample_rate, data\n",
    "\n",
    "# Detectar la frecuencia dominante en un rango cercano a la frecuencia objetivo\n",
    "def detect_frequency(data, sample_rate, target_freq, freq_range=5):\n",
    "    max_power = 0\n",
    "    detected_freq = target_freq\n",
    "    \n",
    "    # Probar frecuencias en el rango [target_freq - freq_range, target_freq + freq_range]\n",
    "    for f in np.arange(target_freq - freq_range, target_freq + freq_range, 0.1):\n",
    "        power = goertzel(data, f, sample_rate)\n",
    "        if power > max_power:\n",
    "            max_power = power\n",
    "            detected_freq = f\n",
    "    \n",
    "    return detected_freq\n",
    "\n",
    "# Configuración\n",
    "filename = 'D:/UTN/PES/repos/TPS finales/Afinador/Audios/ee2.wav'  # Nombre del archivo WAV\n",
    "target_freq = 330.0               # Frecuencia de afinación para la primera cuerda\n",
    "freq_range = 5.0                  # Rango en Hz alrededor de la frecuencia objetivo\n",
    "\n",
    "# Cargar el archivo de audio\n",
    "sample_rate, data = load_wav(filename)\n",
    "\n",
    "# Detectar frecuencia dominante cercana a la frecuencia objetivo\n",
    "detected_freq = detect_frequency(data, sample_rate, target_freq, freq_range)\n",
    "\n",
    "# Comparar con la frecuencia objetivo\n",
    "print(f\"Frecuencia detectada: {detected_freq:.2f} Hz\")\n",
    "if abs(detected_freq - target_freq) <= 0.5:\n",
    "    print(\"La cuerda está afinada.\")\n",
    "else:\n",
    "    print(f\"La cuerda está desfasada por {detected_freq - target_freq:.2f} Hz.\")\n",
    "\n",
    "# Puede que los armónicos del tono compliquen la solución\n",
    "# Pensar en usar un filtro pasa banda para obtener solo la fundamental."
   ]
  },
  {
   "cell_type": "code",
   "execution_count": null,
   "id": "571827e3-d145-48b8-9907-589219c7b6fa",
   "metadata": {},
   "outputs": [],
   "source": []
  }
 ],
 "metadata": {
  "kernelspec": {
   "display_name": "Python 3 (ipykernel)",
   "language": "python",
   "name": "python3"
  },
  "language_info": {
   "codemirror_mode": {
    "name": "ipython",
    "version": 3
   },
   "file_extension": ".py",
   "mimetype": "text/x-python",
   "name": "python",
   "nbconvert_exporter": "python",
   "pygments_lexer": "ipython3",
   "version": "3.12.1"
  }
 },
 "nbformat": 4,
 "nbformat_minor": 5
}
